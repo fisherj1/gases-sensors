{
 "cells": [
  {
   "cell_type": "code",
   "execution_count": 8,
   "metadata": {},
   "outputs": [],
   "source": [
    "import os\n",
    "import pandas as pd\n",
    "\n",
    "import yaml\n",
    "from catboost import CatBoostRegressor\n",
    "from sklearn.metrics import r2_score\n",
    "\n",
    "import sys \n",
    "sys.path.append('/Users/cher/Documents/gases-sensors/tools/')\n",
    "from utils import create_experiment_folder\n",
    "from dataloader import CustomDatasetRegression"
   ]
  },
  {
   "cell_type": "code",
   "execution_count": 4,
   "metadata": {},
   "outputs": [],
   "source": [
    "EXP_PATH = '/Users/cher/Documents/gases-sensors/catboost/experiments'\n",
    "ARGS = {\n",
    "    'iterations': 100, \n",
    "    'learning_rate': 0.1,\n",
    "    'depth': 6,\n",
    "    'loss_function': 'RMSE',\n",
    "    'verbose': 50\n",
    "}\n",
    "DYNAMICS = [\n",
    "    'linear',\n",
    "    'linear_short',\n",
    "    'steps_up',\n",
    "    'steps_up_pulse',\n",
    "    'steps_down',\n",
    "    'steps_down_pulse'\n",
    "]\n",
    "SENSORS = ['R1','R2', 'R3', 'R4', 'R5', 'R6', 'R7', 'R8', 'R9', 'R10', 'R11', 'R12']\n",
    "GASES = ['CO']"
   ]
  },
  {
   "cell_type": "code",
   "execution_count": 6,
   "metadata": {},
   "outputs": [],
   "source": [
    "def train_catboost(\n",
    "        path, \n",
    "        exp_path, \n",
    "        dynamics, \n",
    "        sensors, \n",
    "        gases, \n",
    "        metric\n",
    "    ):\n",
    "\n",
    "    global ARGS\n",
    "    exp_path = create_experiment_folder(exp_path)\n",
    "    with open(os.path.join(exp_path, 'config.yaml'), 'w') as file:\n",
    "        yaml.dump(ARGS, file, default_flow_style=False)\n",
    "\n",
    "    metric_dict = {}\n",
    "    for sensor in sensors:\n",
    "        metric_dict[sensor] = pd.DataFrame(index=dynamics, columns=gases)\n",
    "\n",
    "    for dynamic in dynamics:\n",
    "        print(f'Dynamic {dynamic}')\n",
    "        for gas in gases:\n",
    "            dataset_train = CustomDatasetRegression(\n",
    "                path=path,\n",
    "                dynamic=dynamic, \n",
    "                gas=gas, \n",
    "                step='trn', \n",
    "                output_type='np'\n",
    "            )\n",
    "            dataset_valid = CustomDatasetRegression(\n",
    "                path=path,\n",
    "                dynamic=dynamic, \n",
    "                gas=gas, \n",
    "                step='vld', \n",
    "                output_type='np'\n",
    "            )\n",
    "            for sensor in sensors:\n",
    "                x_train, y_train = dataset_train.get_all_data(sensor, 'conc')\n",
    "                x_valid, y_valid = dataset_valid.get_all_data(sensor, 'conc')\n",
    "\n",
    "                model = CatBoostRegressor(verbose=False, **ARGS)\n",
    "                model.fit(x_train, y_train)\n",
    "\n",
    "                y_valid_pred = model.predict(x_valid)\n",
    "                metric_value = metric(y_valid, y_valid_pred)\n",
    "                metric_dict[sensor].loc[dynamic, gas] = metric_value\n",
    "\n",
    "                cb_model_name = f'cb_R{sensor}_{dynamic}_{gas}.cbm'\n",
    "                model.save_model(os.path.join(exp_path, cb_model_name))\n",
    "    \n",
    "    for sensor in sensors:\n",
    "        metric_dict[sensor].to_csv(os.path.join(exp_path, f'{sensor}.csv'), index=False)"
   ]
  },
  {
   "cell_type": "code",
   "execution_count": null,
   "metadata": {},
   "outputs": [],
   "source": [
    "train_catboost(\n",
    "    path='/Users/cher/Documents/gases-sensors/data/exp1_melted',\n",
    "    exp_path='/Users/cher/Documents/gases-sensors/catboost/experiments', \n",
    "    dynamics=DYNAMICS, \n",
    "    sensors=SENSORS, \n",
    "    gases=GASES, \n",
    "    metric=r2_score\n",
    ")"
   ]
  }
 ],
 "metadata": {
  "kernelspec": {
   "display_name": ".venv",
   "language": "python",
   "name": "python3"
  },
  "language_info": {
   "codemirror_mode": {
    "name": "ipython",
    "version": 3
   },
   "file_extension": ".py",
   "mimetype": "text/x-python",
   "name": "python",
   "nbconvert_exporter": "python",
   "pygments_lexer": "ipython3",
   "version": "3.9.6"
  }
 },
 "nbformat": 4,
 "nbformat_minor": 2
}
